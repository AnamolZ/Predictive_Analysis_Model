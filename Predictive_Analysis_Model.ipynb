{
 "cells": [
  {
   "cell_type": "markdown",
   "id": "f10a6acb",
   "metadata": {},
   "source": [
    "## House price prediction using Linear Regression"
   ]
  },
  {
   "cell_type": "code",
   "execution_count": 3,
   "id": "b0b792d0",
   "metadata": {},
   "outputs": [],
   "source": [
    "import warnings\n",
    "warnings.filterwarnings(\"ignore\")"
   ]
  },
  {
   "cell_type": "code",
   "execution_count": 4,
   "id": "a6fe7bde",
   "metadata": {},
   "outputs": [],
   "source": [
    "import pandas as pd"
   ]
  },
  {
   "cell_type": "code",
   "execution_count": 5,
   "id": "36b1e7ac",
   "metadata": {},
   "outputs": [],
   "source": [
    "data = {\n",
    "    'Size' : [1200, 1500, 1800, 1000, 2000, 1600, 1400, 1100, 1900, 1700],\n",
    "    'Bedrooms' : [3, 3, 4, 2, 4, 3, 3, 2, 4, 3],\n",
    "    'Bathrooms' : [2, 2, 3, 1, 3, 2, 2, 1, 3, 2],\n",
    "    'Age' : [10, 5, 8, 15, 3, 6, 9, 12, 4, 7],\n",
    "    'Distance_to_city' : [5, 10, 3, 20, 8, 12, 6, 18, 4, 15],\n",
    "    'Price' : [250000, 300000, 350000, 200000, 400000, 320000, 280000, 230000, 380000, 340000]\n",
    "}"
   ]
  },
  {
   "cell_type": "code",
   "execution_count": 6,
   "id": "c0d0408d",
   "metadata": {},
   "outputs": [
    {
     "data": {
      "text/html": [
       "<div>\n",
       "<style scoped>\n",
       "    .dataframe tbody tr th:only-of-type {\n",
       "        vertical-align: middle;\n",
       "    }\n",
       "\n",
       "    .dataframe tbody tr th {\n",
       "        vertical-align: top;\n",
       "    }\n",
       "\n",
       "    .dataframe thead th {\n",
       "        text-align: right;\n",
       "    }\n",
       "</style>\n",
       "<table border=\"1\" class=\"dataframe\">\n",
       "  <thead>\n",
       "    <tr style=\"text-align: right;\">\n",
       "      <th></th>\n",
       "      <th>Size</th>\n",
       "      <th>Bedrooms</th>\n",
       "      <th>Bathrooms</th>\n",
       "      <th>Age</th>\n",
       "      <th>Distance_to_city</th>\n",
       "      <th>Price</th>\n",
       "    </tr>\n",
       "  </thead>\n",
       "  <tbody>\n",
       "    <tr>\n",
       "      <th>0</th>\n",
       "      <td>1200</td>\n",
       "      <td>3</td>\n",
       "      <td>2</td>\n",
       "      <td>10</td>\n",
       "      <td>5</td>\n",
       "      <td>250000</td>\n",
       "    </tr>\n",
       "    <tr>\n",
       "      <th>1</th>\n",
       "      <td>1500</td>\n",
       "      <td>3</td>\n",
       "      <td>2</td>\n",
       "      <td>5</td>\n",
       "      <td>10</td>\n",
       "      <td>300000</td>\n",
       "    </tr>\n",
       "    <tr>\n",
       "      <th>2</th>\n",
       "      <td>1800</td>\n",
       "      <td>4</td>\n",
       "      <td>3</td>\n",
       "      <td>8</td>\n",
       "      <td>3</td>\n",
       "      <td>350000</td>\n",
       "    </tr>\n",
       "    <tr>\n",
       "      <th>3</th>\n",
       "      <td>1000</td>\n",
       "      <td>2</td>\n",
       "      <td>1</td>\n",
       "      <td>15</td>\n",
       "      <td>20</td>\n",
       "      <td>200000</td>\n",
       "    </tr>\n",
       "    <tr>\n",
       "      <th>4</th>\n",
       "      <td>2000</td>\n",
       "      <td>4</td>\n",
       "      <td>3</td>\n",
       "      <td>3</td>\n",
       "      <td>8</td>\n",
       "      <td>400000</td>\n",
       "    </tr>\n",
       "  </tbody>\n",
       "</table>\n",
       "</div>"
      ],
      "text/plain": [
       "   Size  Bedrooms  Bathrooms  Age  Distance_to_city   Price\n",
       "0  1200         3          2   10                 5  250000\n",
       "1  1500         3          2    5                10  300000\n",
       "2  1800         4          3    8                 3  350000\n",
       "3  1000         2          1   15                20  200000\n",
       "4  2000         4          3    3                 8  400000"
      ]
     },
     "execution_count": 6,
     "metadata": {},
     "output_type": "execute_result"
    }
   ],
   "source": [
    "df = pd.DataFrame(data)\n",
    "df.head()"
   ]
  },
  {
   "cell_type": "code",
   "execution_count": 7,
   "id": "d5cee340",
   "metadata": {},
   "outputs": [],
   "source": [
    "from sklearn.model_selection import train_test_split\n",
    "from sklearn.linear_model import LinearRegression"
   ]
  },
  {
   "cell_type": "code",
   "execution_count": 8,
   "id": "2de40b06",
   "metadata": {},
   "outputs": [],
   "source": [
    "X = df[['Size', 'Bedrooms', 'Bathrooms', 'Age', 'Distance_to_city']]\n",
    "Y = df['Price']"
   ]
  },
  {
   "cell_type": "code",
   "execution_count": 9,
   "id": "20825bd5",
   "metadata": {},
   "outputs": [],
   "source": [
    "X_train, X_test, Y_train, Y_test = train_test_split(X, Y, test_size = 0.2, random_state = 42)"
   ]
  },
  {
   "cell_type": "code",
   "execution_count": 10,
   "id": "a9fed11f",
   "metadata": {},
   "outputs": [
    {
     "data": {
      "text/html": [
       "<style>#sk-container-id-1 {color: black;}#sk-container-id-1 pre{padding: 0;}#sk-container-id-1 div.sk-toggleable {background-color: white;}#sk-container-id-1 label.sk-toggleable__label {cursor: pointer;display: block;width: 100%;margin-bottom: 0;padding: 0.3em;box-sizing: border-box;text-align: center;}#sk-container-id-1 label.sk-toggleable__label-arrow:before {content: \"▸\";float: left;margin-right: 0.25em;color: #696969;}#sk-container-id-1 label.sk-toggleable__label-arrow:hover:before {color: black;}#sk-container-id-1 div.sk-estimator:hover label.sk-toggleable__label-arrow:before {color: black;}#sk-container-id-1 div.sk-toggleable__content {max-height: 0;max-width: 0;overflow: hidden;text-align: left;background-color: #f0f8ff;}#sk-container-id-1 div.sk-toggleable__content pre {margin: 0.2em;color: black;border-radius: 0.25em;background-color: #f0f8ff;}#sk-container-id-1 input.sk-toggleable__control:checked~div.sk-toggleable__content {max-height: 200px;max-width: 100%;overflow: auto;}#sk-container-id-1 input.sk-toggleable__control:checked~label.sk-toggleable__label-arrow:before {content: \"▾\";}#sk-container-id-1 div.sk-estimator input.sk-toggleable__control:checked~label.sk-toggleable__label {background-color: #d4ebff;}#sk-container-id-1 div.sk-label input.sk-toggleable__control:checked~label.sk-toggleable__label {background-color: #d4ebff;}#sk-container-id-1 input.sk-hidden--visually {border: 0;clip: rect(1px 1px 1px 1px);clip: rect(1px, 1px, 1px, 1px);height: 1px;margin: -1px;overflow: hidden;padding: 0;position: absolute;width: 1px;}#sk-container-id-1 div.sk-estimator {font-family: monospace;background-color: #f0f8ff;border: 1px dotted black;border-radius: 0.25em;box-sizing: border-box;margin-bottom: 0.5em;}#sk-container-id-1 div.sk-estimator:hover {background-color: #d4ebff;}#sk-container-id-1 div.sk-parallel-item::after {content: \"\";width: 100%;border-bottom: 1px solid gray;flex-grow: 1;}#sk-container-id-1 div.sk-label:hover label.sk-toggleable__label {background-color: #d4ebff;}#sk-container-id-1 div.sk-serial::before {content: \"\";position: absolute;border-left: 1px solid gray;box-sizing: border-box;top: 0;bottom: 0;left: 50%;z-index: 0;}#sk-container-id-1 div.sk-serial {display: flex;flex-direction: column;align-items: center;background-color: white;padding-right: 0.2em;padding-left: 0.2em;position: relative;}#sk-container-id-1 div.sk-item {position: relative;z-index: 1;}#sk-container-id-1 div.sk-parallel {display: flex;align-items: stretch;justify-content: center;background-color: white;position: relative;}#sk-container-id-1 div.sk-item::before, #sk-container-id-1 div.sk-parallel-item::before {content: \"\";position: absolute;border-left: 1px solid gray;box-sizing: border-box;top: 0;bottom: 0;left: 50%;z-index: -1;}#sk-container-id-1 div.sk-parallel-item {display: flex;flex-direction: column;z-index: 1;position: relative;background-color: white;}#sk-container-id-1 div.sk-parallel-item:first-child::after {align-self: flex-end;width: 50%;}#sk-container-id-1 div.sk-parallel-item:last-child::after {align-self: flex-start;width: 50%;}#sk-container-id-1 div.sk-parallel-item:only-child::after {width: 0;}#sk-container-id-1 div.sk-dashed-wrapped {border: 1px dashed gray;margin: 0 0.4em 0.5em 0.4em;box-sizing: border-box;padding-bottom: 0.4em;background-color: white;}#sk-container-id-1 div.sk-label label {font-family: monospace;font-weight: bold;display: inline-block;line-height: 1.2em;}#sk-container-id-1 div.sk-label-container {text-align: center;}#sk-container-id-1 div.sk-container {/* jupyter's `normalize.less` sets `[hidden] { display: none; }` but bootstrap.min.css set `[hidden] { display: none !important; }` so we also need the `!important` here to be able to override the default hidden behavior on the sphinx rendered scikit-learn.org. See: https://github.com/scikit-learn/scikit-learn/issues/21755 */display: inline-block !important;position: relative;}#sk-container-id-1 div.sk-text-repr-fallback {display: none;}</style><div id=\"sk-container-id-1\" class=\"sk-top-container\"><div class=\"sk-text-repr-fallback\"><pre>LinearRegression()</pre><b>In a Jupyter environment, please rerun this cell to show the HTML representation or trust the notebook. <br />On GitHub, the HTML representation is unable to render, please try loading this page with nbviewer.org.</b></div><div class=\"sk-container\" hidden><div class=\"sk-item\"><div class=\"sk-estimator sk-toggleable\"><input class=\"sk-toggleable__control sk-hidden--visually\" id=\"sk-estimator-id-1\" type=\"checkbox\" checked><label for=\"sk-estimator-id-1\" class=\"sk-toggleable__label sk-toggleable__label-arrow\">LinearRegression</label><div class=\"sk-toggleable__content\"><pre>LinearRegression()</pre></div></div></div></div></div>"
      ],
      "text/plain": [
       "LinearRegression()"
      ]
     },
     "execution_count": 10,
     "metadata": {},
     "output_type": "execute_result"
    }
   ],
   "source": [
    "model = LinearRegression()\n",
    "model.fit(X_train, Y_train)"
   ]
  },
  {
   "cell_type": "code",
   "execution_count": 11,
   "id": "d2bebfcb",
   "metadata": {},
   "outputs": [],
   "source": [
    "import numpy as np"
   ]
  },
  {
   "cell_type": "code",
   "execution_count": 12,
   "id": "b965696d",
   "metadata": {},
   "outputs": [
    {
     "name": "stdin",
     "output_type": "stream",
     "text": [
      "Enter the size of the house (in square feet):  1200\n",
      "Enter the number of bedrooms:  3\n",
      "Enter the number of bathrooms:  5\n",
      "Enter the age of house (in years):  7\n",
      "Enter the distance to the city (in kms):  15\n"
     ]
    }
   ],
   "source": [
    "Size = float(input(\"Enter the size of the house (in square feet): \"))\n",
    "Bedrooms = int(input(\"Enter the number of bedrooms: \"))\n",
    "Bathrooms = int(input(\"Enter the number of bathrooms: \"))\n",
    "Age = int(input(\"Enter the age of house (in years): \"))\n",
    "Distance_to_city = float(input(\"Enter the distance to the city (in kms): \"))"
   ]
  },
  {
   "cell_type": "code",
   "execution_count": 13,
   "id": "f5965ccc",
   "metadata": {},
   "outputs": [
    {
     "name": "stdout",
     "output_type": "stream",
     "text": [
      "The predicted price of the house is: $ 276748.09\n"
     ]
    }
   ],
   "source": [
    "user_input = np.array([[Size, Bedrooms, Bathrooms, Age, Distance_to_city]])\n",
    "predicted_price = model.predict(user_input)\n",
    "print(f\"The predicted price of the house is: ${predicted_price[0]: .2f}\")"
   ]
  },
  {
   "cell_type": "code",
   "execution_count": 14,
   "id": "eb25ecca",
   "metadata": {},
   "outputs": [],
   "source": [
    "from sklearn.metrics import r2_score, mean_squared_error"
   ]
  },
  {
   "cell_type": "code",
   "execution_count": 15,
   "id": "9c3d1fa9",
   "metadata": {},
   "outputs": [
    {
     "name": "stdout",
     "output_type": "stream",
     "text": [
      "R-Squared score:0.95\n"
     ]
    }
   ],
   "source": [
    "user_input_predicted_price = model.predict(X_test)\n",
    "r2 = r2_score(Y_test, user_input_predicted_price)\n",
    "print(f\"R-Squared score:{r2:.2f}\")"
   ]
  },
  {
   "cell_type": "code",
   "execution_count": 16,
   "id": "618079a1",
   "metadata": {},
   "outputs": [
    {
     "name": "stdout",
     "output_type": "stream",
     "text": [
      "RMSE : 8604.37\n"
     ]
    }
   ],
   "source": [
    "rmse = np.sqrt(mean_squared_error(Y_test, user_input_predicted_price))\n",
    "print(f\"RMSE : {rmse:.2f}\")"
   ]
  },
  {
   "cell_type": "code",
   "execution_count": 17,
   "id": "c30ceaaa",
   "metadata": {},
   "outputs": [],
   "source": [
    "import matplotlib.pyplot as plt"
   ]
  },
  {
   "cell_type": "code",
   "execution_count": 18,
   "id": "24e041f8",
   "metadata": {},
   "outputs": [
    {
     "name": "stdout",
     "output_type": "stream",
     "text": [
      "   User input prediction  Actual Price\n",
      "0          276748.093215        380000\n",
      "1          276748.093215        300000\n"
     ]
    }
   ],
   "source": [
    "results = pd.DataFrame({'User input prediction': predicted_price[0],\n",
    "                       'Actual Price': Y_test.values})\n",
    "print(results)"
   ]
  },
  {
   "cell_type": "code",
   "execution_count": 19,
   "id": "95475ef5",
   "metadata": {},
   "outputs": [
    {
     "data": {
      "image/png": "[encoded data removed]",
      "text/plain": [
       "<Figure size 1000x600 with 1 Axes>"
      ]
     },
     "metadata": {},
     "output_type": "display_data"
    }
   ],
   "source": [
    "results.plot(kind = 'bar', figsize = (10,6))\n",
    "plt.title(\"Users input prediction vs actual price\")\n",
    "plt.xlabel(\"Sample Index\")\n",
    "plt.ylabel(\"House Price\")\n",
    "plt.xticks([])\n",
    "plt.show()"
   ]
  },
  {
   "cell_type": "markdown",
   "id": "9ac2143c-1e63-4d10-93cb-cfa2c5f20812",
   "metadata": {},
   "source": [
    "   "
   ]
  },
  {
   "cell_type": "markdown",
   "id": "7001bcc0-f725-46c9-ab69-3834dbb55fc7",
   "metadata": {},
   "source": [
    "## Car price prediction using Linear Regression"
   ]
  },
  {
   "cell_type": "code",
   "execution_count": 20,
   "id": "8287c5c4-867a-4d24-90bd-fc2a30fce8cc",
   "metadata": {},
   "outputs": [],
   "source": [
    "data_load = pd.read_csv(\"car_price_data.csv\")"
   ]
  },
  {
   "cell_type": "code",
   "execution_count": 21,
   "id": "b9a790e8-9a88-4ffc-910d-bab81e5ed281",
   "metadata": {},
   "outputs": [
    {
     "data": {
      "text/html": [
       "<div>\n",
       "<style scoped>\n",
       "    .dataframe tbody tr th:only-of-type {\n",
       "        vertical-align: middle;\n",
       "    }\n",
       "\n",
       "    .dataframe tbody tr th {\n",
       "        vertical-align: top;\n",
       "    }\n",
       "\n",
       "    .dataframe thead th {\n",
       "        text-align: right;\n",
       "    }\n",
       "</style>\n",
       "<table border=\"1\" class=\"dataframe\">\n",
       "  <thead>\n",
       "    <tr style=\"text-align: right;\">\n",
       "      <th></th>\n",
       "      <th>Mileage</th>\n",
       "      <th>Age</th>\n",
       "      <th>Previous_Owners</th>\n",
       "      <th>Brand</th>\n",
       "      <th>Condition</th>\n",
       "      <th>Price</th>\n",
       "    </tr>\n",
       "  </thead>\n",
       "  <tbody>\n",
       "    <tr>\n",
       "      <th>0</th>\n",
       "      <td>15592</td>\n",
       "      <td>10</td>\n",
       "      <td>2</td>\n",
       "      <td>Ford</td>\n",
       "      <td>Fair</td>\n",
       "      <td>41545.0</td>\n",
       "    </tr>\n",
       "    <tr>\n",
       "      <th>1</th>\n",
       "      <td>4278</td>\n",
       "      <td>6</td>\n",
       "      <td>3</td>\n",
       "      <td>Ford</td>\n",
       "      <td>Excellent</td>\n",
       "      <td>21252.0</td>\n",
       "    </tr>\n",
       "    <tr>\n",
       "      <th>2</th>\n",
       "      <td>37048</td>\n",
       "      <td>10</td>\n",
       "      <td>3</td>\n",
       "      <td>Nissan</td>\n",
       "      <td>Good</td>\n",
       "      <td>60377.0</td>\n",
       "    </tr>\n",
       "    <tr>\n",
       "      <th>3</th>\n",
       "      <td>33098</td>\n",
       "      <td>4</td>\n",
       "      <td>2</td>\n",
       "      <td>Ford</td>\n",
       "      <td>Good</td>\n",
       "      <td>39164.0</td>\n",
       "    </tr>\n",
       "    <tr>\n",
       "      <th>4</th>\n",
       "      <td>30256</td>\n",
       "      <td>2</td>\n",
       "      <td>1</td>\n",
       "      <td>BMW</td>\n",
       "      <td>Good</td>\n",
       "      <td>40092.0</td>\n",
       "    </tr>\n",
       "  </tbody>\n",
       "</table>\n",
       "</div>"
      ],
      "text/plain": [
       "   Mileage  Age  Previous_Owners   Brand  Condition    Price\n",
       "0    15592   10                2    Ford       Fair  41545.0\n",
       "1     4278    6                3    Ford  Excellent  21252.0\n",
       "2    37048   10                3  Nissan       Good  60377.0\n",
       "3    33098    4                2    Ford       Good  39164.0\n",
       "4    30256    2                1     BMW       Good  40092.0"
      ]
     },
     "execution_count": 21,
     "metadata": {},
     "output_type": "execute_result"
    }
   ],
   "source": [
    "data_load.head()"
   ]
  },
  {
   "cell_type": "code",
   "execution_count": 22,
   "id": "bc4ff831-ee93-40da-b61d-70d3404e4f62",
   "metadata": {},
   "outputs": [],
   "source": [
    "from sklearn.model_selection import train_test_split\n",
    "from sklearn.linear_model import LinearRegression"
   ]
  },
  {
   "cell_type": "code",
   "execution_count": 30,
   "id": "496cc812-e50d-4536-8de9-0867087902e6",
   "metadata": {},
   "outputs": [],
   "source": [
    "from sklearn.preprocessing import LabelEncoder"
   ]
  },
  {
   "cell_type": "code",
   "execution_count": 31,
   "id": "28828783-efc7-4075-8377-6470489734f2",
   "metadata": {},
   "outputs": [],
   "source": [
    "data_encoded = data_load.copy()"
   ]
  },
  {
   "cell_type": "code",
   "execution_count": 32,
   "id": "2cf9dc89-414a-4c71-babe-c4b9dde07695",
   "metadata": {},
   "outputs": [],
   "source": [
    "label_encoder = LabelEncoder()"
   ]
  },
  {
   "cell_type": "code",
   "execution_count": 33,
   "id": "fa50fd33-9424-4386-b0fc-2ed487bf5874",
   "metadata": {},
   "outputs": [],
   "source": [
    "data_encoded['Brand'] = label_encoder.fit_transform(data_encoded['Brand'])\n",
    "data_encoded['Condition'] = label_encoder.fit_transform(data_encoded['Condition'])"
   ]
  },
  {
   "cell_type": "code",
   "execution_count": 34,
   "id": "9835a1a9-c386-42b2-b128-85dbbb876d95",
   "metadata": {},
   "outputs": [],
   "source": [
    "X = data_encoded[['Mileage', 'Age', 'Previous_Owners', 'Brand', 'Condition']]\n",
    "Y = data_encoded['Price']"
   ]
  },
  {
   "cell_type": "code",
   "execution_count": 35,
   "id": "babc1bbf-361f-440e-9e12-2cd2643eadf1",
   "metadata": {},
   "outputs": [],
   "source": [
    "X_train, X_test, Y_train, Y_test = train_test_split(X,Y, test_size = 0.2, random_state = 42)"
   ]
  },
  {
   "cell_type": "code",
   "execution_count": 36,
   "id": "ff81d943-2c36-4fc6-8a82-a365ff5d912e",
   "metadata": {},
   "outputs": [
    {
     "data": {
      "text/html": [
       "<style>#sk-container-id-2 {color: black;}#sk-container-id-2 pre{padding: 0;}#sk-container-id-2 div.sk-toggleable {background-color: white;}#sk-container-id-2 label.sk-toggleable__label {cursor: pointer;display: block;width: 100%;margin-bottom: 0;padding: 0.3em;box-sizing: border-box;text-align: center;}#sk-container-id-2 label.sk-toggleable__label-arrow:before {content: \"▸\";float: left;margin-right: 0.25em;color: #696969;}#sk-container-id-2 label.sk-toggleable__label-arrow:hover:before {color: black;}#sk-container-id-2 div.sk-estimator:hover label.sk-toggleable__label-arrow:before {color: black;}#sk-container-id-2 div.sk-toggleable__content {max-height: 0;max-width: 0;overflow: hidden;text-align: left;background-color: #f0f8ff;}#sk-container-id-2 div.sk-toggleable__content pre {margin: 0.2em;color: black;border-radius: 0.25em;background-color: #f0f8ff;}#sk-container-id-2 input.sk-toggleable__control:checked~div.sk-toggleable__content {max-height: 200px;max-width: 100%;overflow: auto;}#sk-container-id-2 input.sk-toggleable__control:checked~label.sk-toggleable__label-arrow:before {content: \"▾\";}#sk-container-id-2 div.sk-estimator input.sk-toggleable__control:checked~label.sk-toggleable__label {background-color: #d4ebff;}#sk-container-id-2 div.sk-label input.sk-toggleable__control:checked~label.sk-toggleable__label {background-color: #d4ebff;}#sk-container-id-2 input.sk-hidden--visually {border: 0;clip: rect(1px 1px 1px 1px);clip: rect(1px, 1px, 1px, 1px);height: 1px;margin: -1px;overflow: hidden;padding: 0;position: absolute;width: 1px;}#sk-container-id-2 div.sk-estimator {font-family: monospace;background-color: #f0f8ff;border: 1px dotted black;border-radius: 0.25em;box-sizing: border-box;margin-bottom: 0.5em;}#sk-container-id-2 div.sk-estimator:hover {background-color: #d4ebff;}#sk-container-id-2 div.sk-parallel-item::after {content: \"\";width: 100%;border-bottom: 1px solid gray;flex-grow: 1;}#sk-container-id-2 div.sk-label:hover label.sk-toggleable__label {background-color: #d4ebff;}#sk-container-id-2 div.sk-serial::before {content: \"\";position: absolute;border-left: 1px solid gray;box-sizing: border-box;top: 0;bottom: 0;left: 50%;z-index: 0;}#sk-container-id-2 div.sk-serial {display: flex;flex-direction: column;align-items: center;background-color: white;padding-right: 0.2em;padding-left: 0.2em;position: relative;}#sk-container-id-2 div.sk-item {position: relative;z-index: 1;}#sk-container-id-2 div.sk-parallel {display: flex;align-items: stretch;justify-content: center;background-color: white;position: relative;}#sk-container-id-2 div.sk-item::before, #sk-container-id-2 div.sk-parallel-item::before {content: \"\";position: absolute;border-left: 1px solid gray;box-sizing: border-box;top: 0;bottom: 0;left: 50%;z-index: -1;}#sk-container-id-2 div.sk-parallel-item {display: flex;flex-direction: column;z-index: 1;position: relative;background-color: white;}#sk-container-id-2 div.sk-parallel-item:first-child::after {align-self: flex-end;width: 50%;}#sk-container-id-2 div.sk-parallel-item:last-child::after {align-self: flex-start;width: 50%;}#sk-container-id-2 div.sk-parallel-item:only-child::after {width: 0;}#sk-container-id-2 div.sk-dashed-wrapped {border: 1px dashed gray;margin: 0 0.4em 0.5em 0.4em;box-sizing: border-box;padding-bottom: 0.4em;background-color: white;}#sk-container-id-2 div.sk-label label {font-family: monospace;font-weight: bold;display: inline-block;line-height: 1.2em;}#sk-container-id-2 div.sk-label-container {text-align: center;}#sk-container-id-2 div.sk-container {/* jupyter's `normalize.less` sets `[hidden] { display: none; }` but bootstrap.min.css set `[hidden] { display: none !important; }` so we also need the `!important` here to be able to override the default hidden behavior on the sphinx rendered scikit-learn.org. See: https://github.com/scikit-learn/scikit-learn/issues/21755 */display: inline-block !important;position: relative;}#sk-container-id-2 div.sk-text-repr-fallback {display: none;}</style><div id=\"sk-container-id-2\" class=\"sk-top-container\"><div class=\"sk-text-repr-fallback\"><pre>LinearRegression()</pre><b>In a Jupyter environment, please rerun this cell to show the HTML representation or trust the notebook. <br />On GitHub, the HTML representation is unable to render, please try loading this page with nbviewer.org.</b></div><div class=\"sk-container\" hidden><div class=\"sk-item\"><div class=\"sk-estimator sk-toggleable\"><input class=\"sk-toggleable__control sk-hidden--visually\" id=\"sk-estimator-id-2\" type=\"checkbox\" checked><label for=\"sk-estimator-id-2\" class=\"sk-toggleable__label sk-toggleable__label-arrow\">LinearRegression</label><div class=\"sk-toggleable__content\"><pre>LinearRegression()</pre></div></div></div></div></div>"
      ],
      "text/plain": [
       "LinearRegression()"
      ]
     },
     "execution_count": 36,
     "metadata": {},
     "output_type": "execute_result"
    }
   ],
   "source": [
    "model = LinearRegression()\n",
    "model.fit(X_train, Y_train)"
   ]
  },
  {
   "cell_type": "code",
   "execution_count": 37,
   "id": "e616ebfd-c3fe-499c-91a1-006c564d95cd",
   "metadata": {},
   "outputs": [],
   "source": [
    "import numpy as np"
   ]
  },
  {
   "cell_type": "code",
   "execution_count": 38,
   "id": "d3ba67c6-3012-43cc-b6fb-85b5e395f9b7",
   "metadata": {},
   "outputs": [
    {
     "name": "stdin",
     "output_type": "stream",
     "text": [
      "Enter Mileage Of Vechile:  32000\n",
      "Enter Age Of Vechile:  3\n",
      "Enter Previous Owners Number:  2\n",
      "Enter Brand Of Vechile:  BMW\n",
      "Enter Condition Of Vechile:  Excellent\n"
     ]
    }
   ],
   "source": [
    "Mileage = int(input(\"Enter Mileage Of Car: \"))\n",
    "Age = int(input(\"Enter Age Of Car: \"))\n",
    "Previous_Owners = int(input(\"Enter Previous Owners Number: \"))\n",
    "Brand = input(\"Enter Brand Of Car: \")\n",
    "Condition = input(\"Enter Condition Of Car: \")"
   ]
  },
  {
   "cell_type": "code",
   "execution_count": 39,
   "id": "2cfaeee5-8579-4d03-b16a-364262cd21be",
   "metadata": {},
   "outputs": [],
   "source": [
    "brand_encoder = LabelEncoder()\n",
    "condition_encoder = LabelEncoder()"
   ]
  },
  {
   "cell_type": "code",
   "execution_count": 40,
   "id": "1476b0d6-0d67-4cb3-9a90-f01d695c7980",
   "metadata": {},
   "outputs": [],
   "source": [
    "brand_encoded = brand_encoder.fit_transform([Brand])\n",
    "condition_encoded = condition_encoder.fit_transform([Condition])"
   ]
  },
  {
   "cell_type": "code",
   "execution_count": 41,
   "id": "028c79d8-245c-4d12-b1d5-98dd5c3bae61",
   "metadata": {},
   "outputs": [],
   "source": [
    "Brand = brand_encoded[0]\n",
    "Condition = condition_encoded[0]"
   ]
  },
  {
   "cell_type": "code",
   "execution_count": 42,
   "id": "55435397-2079-4592-8699-0c823b402c46",
   "metadata": {},
   "outputs": [
    {
     "name": "stdout",
     "output_type": "stream",
     "text": [
      "The predicted price of the vechile is: $ 39762.23\n"
     ]
    }
   ],
   "source": [
    "user_input = np.array([[Mileage, Age, Previous_Owners, Brand, Condition]])\n",
    "predicted_price = model.predict(user_input)\n",
    "print(f\"The predicted price of the vechile is: ${predicted_price[0]: .2f}\")"
   ]
  },
  {
   "cell_type": "code",
   "execution_count": 43,
   "id": "11c7d060-3bc2-43af-b1fb-86807e843313",
   "metadata": {},
   "outputs": [],
   "source": [
    "from sklearn.metrics import r2_score, mean_squared_error"
   ]
  },
  {
   "cell_type": "code",
   "execution_count": 44,
   "id": "8847a609-46fe-4053-82c5-9186e29d0f4c",
   "metadata": {},
   "outputs": [
    {
     "name": "stdout",
     "output_type": "stream",
     "text": [
      "R-Squared Score: 0.70\n"
     ]
    }
   ],
   "source": [
    "user_input_predicted_price = model.predict(X_test)\n",
    "r2 = r2_score(Y_test, user_input_predicted_price)\n",
    "print(f\"R-Squared Score: {r2:.2f}\")"
   ]
  },
  {
   "cell_type": "code",
   "execution_count": 45,
   "id": "f58fb492-ce9b-46b0-9601-de58c281c939",
   "metadata": {},
   "outputs": [
    {
     "name": "stdout",
     "output_type": "stream",
     "text": [
      "RMSE : 7620.88\n"
     ]
    }
   ],
   "source": [
    "rmse = np.sqrt(mean_squared_error(Y_test, user_input_predicted_price))\n",
    "print(f\"RMSE : {rmse:.2f}\")"
   ]
  },
  {
   "cell_type": "code",
   "execution_count": 46,
   "id": "858d99d2-79b9-4450-8584-1511d1ded52d",
   "metadata": {},
   "outputs": [],
   "source": [
    "import matplotlib.pyplot as plt"
   ]
  },
  {
   "cell_type": "code",
   "execution_count": 47,
   "id": "5416947c-0072-42fa-acae-debd1f08bbaa",
   "metadata": {},
   "outputs": [
    {
     "name": "stdout",
     "output_type": "stream",
     "text": [
      "   User input prediction  Actual Price\n",
      "0           39762.232092       39900.0\n",
      "1           39762.232092       54028.0\n",
      "2           39762.232092       52436.5\n",
      "3           39762.232092       57636.5\n",
      "4           39762.232092       75299.5\n",
      "5           39762.232092       48764.5\n",
      "6           39762.232092       32919.5\n",
      "7           39762.232092       63298.0\n",
      "8           39762.232092       33497.5\n",
      "9           39762.232092       72191.5\n"
     ]
    }
   ],
   "source": [
    "results = pd.DataFrame({'User input prediction': predicted_price[0],\n",
    "                       'Actual Price': Y_test.values})\n",
    "print(results)"
   ]
  },
  {
   "cell_type": "code",
   "execution_count": 48,
   "id": "9a5b8a23-119f-43e7-93d5-d39e406bb69c",
   "metadata": {},
   "outputs": [
    {
     "data": {
      "image/png": "[encoded data removed]",
      "text/plain": [
       "<Figure size 1000x600 with 1 Axes>"
      ]
     },
     "metadata": {},
     "output_type": "display_data"
    }
   ],
   "source": [
    "results.plot(kind = 'bar', figsize = (10,6))\n",
    "plt.title(\"Users input prediction vs actual price\")\n",
    "plt.xlabel(\"Sample Index\")\n",
    "plt.ylabel(\"Car Price\")\n",
    "plt.xticks([])\n",
    "plt.show()"
   ]
  },
  {
   "cell_type": "code",
   "execution_count": null,
   "id": "d5618db6-7658-42d6-8304-958807ad9edd",
   "metadata": {},
   "outputs": [],
   "source": []
  }
 ],
 "metadata": {
  "kernelspec": {
   "display_name": "Python 3 (ipykernel)",
   "language": "python",
   "name": "python3"
  },
  "language_info": {
   "codemirror_mode": {
    "name": "ipython",
    "version": 3
   },
   "file_extension": ".py",
   "mimetype": "text/x-python",
   "name": "python",
   "nbconvert_exporter": "python",
   "pygments_lexer": "ipython3",
   "version": "3.11.4"
  }
 },
 "nbformat": 4,
 "nbformat_minor": 5
}
